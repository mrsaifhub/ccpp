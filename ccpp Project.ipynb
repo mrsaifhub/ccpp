{
 "cells": [
  {
   "cell_type": "code",
   "execution_count": 1,
   "id": "2615b90c",
   "metadata": {},
   "outputs": [],
   "source": [
    "# Importing all libraries\n",
    "\n",
    "import numpy as np\n",
    "import pandas as pd\n",
    "import matplotlib.pyplot as plt\n",
    "from sklearn import preprocessing"
   ]
  },
  {
   "cell_type": "code",
   "execution_count": 2,
   "id": "8897c6f5",
   "metadata": {
    "scrolled": true
   },
   "outputs": [
    {
     "data": {
      "text/plain": [
       "(7176, 4)"
      ]
     },
     "execution_count": 2,
     "metadata": {},
     "output_type": "execute_result"
    }
   ],
   "source": [
    "# Loading the data from the local file boston_train\n",
    "\n",
    "train = np.loadtxt(\"./ccpp_train.csv\",delimiter=\",\")\n",
    "x = train[:,:-1]\n",
    "y = train[:,-1]\n",
    "x.shape"
   ]
  },
  {
   "cell_type": "code",
   "execution_count": 3,
   "id": "07b38a03",
   "metadata": {},
   "outputs": [],
   "source": [
    "# Initializing scaling object\n",
    "\n",
    "min_max_scaler_object = preprocessing.MinMaxScaler()"
   ]
  },
  {
   "cell_type": "code",
   "execution_count": 4,
   "id": "0adf1b19",
   "metadata": {},
   "outputs": [],
   "source": [
    "min_max_scaler_object.fit(x)\n",
    "x = min_max_scaler_object.transform(x)"
   ]
  },
  {
   "cell_type": "code",
   "execution_count": 5,
   "id": "e102f90e",
   "metadata": {},
   "outputs": [],
   "source": [
    "def predict(x,w,b):\n",
    "    return np.dot(x,w) + b"
   ]
  },
  {
   "cell_type": "code",
   "execution_count": 6,
   "id": "fcb71761",
   "metadata": {},
   "outputs": [],
   "source": [
    "def cost(x,w,b,y):\n",
    "    return np.sum((y-(np.dot(x,w) + b))**2)/len(x)"
   ]
  },
  {
   "cell_type": "code",
   "execution_count": 7,
   "id": "854e8f71",
   "metadata": {},
   "outputs": [],
   "source": [
    "def substep_gd(learning_rate,x,y,w,b):\n",
    "    y_hat = predict(x,w,b)\n",
    "    w = w + x*(learning_rate*(y-y_hat))\n",
    "    b = b + learning_rate*(y-y_hat)\n",
    "    return w,b"
   ]
  },
  {
   "cell_type": "code",
   "execution_count": 8,
   "id": "2886b1e6",
   "metadata": {},
   "outputs": [],
   "source": [
    "def step_gd(learning_rate,x,y,w,b):\n",
    "    for i in range(len(x)):\n",
    "        w,b = substep_gd(learning_rate,x[i],y[i],w,b)\n",
    "    return w,b"
   ]
  },
  {
   "cell_type": "code",
   "execution_count": 9,
   "id": "aa4300c4",
   "metadata": {},
   "outputs": [],
   "source": [
    "def gd(learning_rate,num_iteration,x,y):\n",
    "    w = np.ones(len(x[0]))\n",
    "    b = 1\n",
    "    co = np.array([])\n",
    "    iteration = np.array([])\n",
    "    for i in range(num_iteration):\n",
    "        w,b = step_gd(learning_rate,x,y,w,b)\n",
    "        c = cost(x,w,b,y)\n",
    "        co = np.append(co,c)\n",
    "        iteration =  np.append(iteration,i)\n",
    "    return w,b,co,iteration"
   ]
  },
  {
   "cell_type": "code",
   "execution_count": 10,
   "id": "8222ef1f",
   "metadata": {},
   "outputs": [],
   "source": [
    "def run():\n",
    "    learning_rate = 0.0001\n",
    "    num_iteration = 6000\n",
    "    w,b,co,iteration = gd(learning_rate,num_iteration,x,y)\n",
    "    return w,b,co,iteration"
   ]
  },
  {
   "cell_type": "code",
   "execution_count": 11,
   "id": "9812598b",
   "metadata": {},
   "outputs": [],
   "source": [
    "# Loading test data\n",
    "\n",
    "test = np.loadtxt(\"ccpp_test.csv\",delimiter=\",\")\n",
    "test = min_max_scaler_object.transform(test)"
   ]
  },
  {
   "cell_type": "code",
   "execution_count": 12,
   "id": "ce69f1b8",
   "metadata": {},
   "outputs": [],
   "source": [
    "# Running the gradient algorithm and predicting results\n",
    "w,b,cost,iteration = run()\n",
    "test_results = predict(test,w,b)"
   ]
  },
  {
   "cell_type": "code",
   "execution_count": 13,
   "id": "b102225a",
   "metadata": {},
   "outputs": [],
   "source": [
    "# Saving the results in diabetes_results file\n",
    "\n",
    "np.savetxt(\"ccpp_results.csv\",test_results,delimiter=\",\",fmt='%1.5f')"
   ]
  },
  {
   "cell_type": "code",
   "execution_count": 14,
   "id": "9043644d",
   "metadata": {},
   "outputs": [
    {
     "data": {
      "text/plain": [
       "array([469.93514876, 471.7456231 , 433.82482198, ..., 439.10910037,\n",
       "       450.63564535, 447.24485785])"
      ]
     },
     "execution_count": 14,
     "metadata": {},
     "output_type": "execute_result"
    }
   ],
   "source": [
    "test_results"
   ]
  },
  {
   "cell_type": "code",
   "execution_count": 15,
   "id": "9157001f",
   "metadata": {},
   "outputs": [
    {
     "data": {
      "text/plain": [
       "array([-67.71448475, -12.76963481,   2.36796755, -11.95041994])"
      ]
     },
     "execution_count": 15,
     "metadata": {},
     "output_type": "execute_result"
    }
   ],
   "source": [
    "w"
   ]
  },
  {
   "cell_type": "code",
   "execution_count": 16,
   "id": "cf7f3ab6",
   "metadata": {},
   "outputs": [
    {
     "data": {
      "text/plain": [
       "(20.91, 20.915)"
      ]
     },
     "execution_count": 16,
     "metadata": {},
     "output_type": "execute_result"
    },
    {
     "data": {
      "image/png": "[encoded data removed]",
      "text/plain": [
       "<Figure size 432x288 with 1 Axes>"
      ]
     },
     "metadata": {
      "needs_background": "light"
     },
     "output_type": "display_data"
    }
   ],
   "source": [
    "plt.plot(iteration,cost)\n",
    "plt.ylim(20.91,20.915)"
   ]
  },
  {
   "cell_type": "code",
   "execution_count": 17,
   "id": "cbddea82",
   "metadata": {},
   "outputs": [
    {
     "data": {
      "text/plain": [
       "array([10745.08638481,  2562.50157346,  2073.62083127, ...,\n",
       "          20.91242311,    20.91242311,    20.91242311])"
      ]
     },
     "execution_count": 17,
     "metadata": {},
     "output_type": "execute_result"
    }
   ],
   "source": [
    "cost"
   ]
  },
  {
   "cell_type": "code",
   "execution_count": 18,
   "id": "b2fe536b",
   "metadata": {},
   "outputs": [
    {
     "data": {
      "text/plain": [
       "array([469.93514876, 471.7456231 , 433.82482198, ..., 439.10910037,\n",
       "       450.63564535, 447.24485785])"
      ]
     },
     "execution_count": 18,
     "metadata": {},
     "output_type": "execute_result"
    }
   ],
   "source": [
    "test_results"
   ]
  },
  {
   "cell_type": "code",
   "execution_count": 19,
   "id": "4000a346",
   "metadata": {},
   "outputs": [
    {
     "data": {
      "text/plain": [
       "(array([5999], dtype=int64),)"
      ]
     },
     "execution_count": 19,
     "metadata": {},
     "output_type": "execute_result"
    }
   ],
   "source": [
    "np.where(cost == np.amin(cost))"
   ]
  },
  {
   "cell_type": "code",
   "execution_count": 20,
   "id": "c3d7a28a",
   "metadata": {},
   "outputs": [
    {
     "data": {
      "text/plain": [
       "20.912423105300366"
      ]
     },
     "execution_count": 20,
     "metadata": {},
     "output_type": "execute_result"
    }
   ],
   "source": [
    "np.amin(cost)"
   ]
  },
  {
   "cell_type": "code",
   "execution_count": null,
   "id": "fb954fcd",
   "metadata": {},
   "outputs": [],
   "source": []
  }
 ],
 "metadata": {
  "kernelspec": {
   "display_name": "Python 3 (ipykernel)",
   "language": "python",
   "name": "python3"
  },
  "language_info": {
   "codemirror_mode": {
    "name": "ipython",
    "version": 3
   },
   "file_extension": ".py",
   "mimetype": "text/x-python",
   "name": "python",
   "nbconvert_exporter": "python",
   "pygments_lexer": "ipython3",
   "version": "3.9.7"
  }
 },
 "nbformat": 4,
 "nbformat_minor": 5
}
